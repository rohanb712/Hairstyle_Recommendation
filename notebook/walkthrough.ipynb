{
  "cells": [
    {
      "cell_type": "markdown",
      "metadata": {
        "id": "q0EaYuTlw-xt"
      },
      "source": [
        "### **Import Libraries and Download Files**"
      ]
    },
    {
      "cell_type": "code",
      "execution_count": 30,
      "metadata": {
        "colab": {
          "base_uri": "https://localhost:8080/"
        },
        "id": "ZTYrc3CwtbRr",
        "outputId": "36aea8b9-6881-4d68-fa1e-2db7078d0388"
      },
      "outputs": [
        {
          "output_type": "stream",
          "name": "stdout",
          "text": [
            "Mounted at /content/drive\n"
          ]
        }
      ],
      "source": [
        "from google.colab import drive\n",
        "drive.mount('/content/drive')"
      ]
    },
    {
      "cell_type": "code",
      "execution_count": 50,
      "metadata": {
        "id": "jpz4-Z3ljPE0"
      },
      "outputs": [],
      "source": [
        "%%capture\n",
        "! rm *\n",
        "!wget https://raw.githubusercontent.com/spmallick/PyImageConf2018/master/faceBlendCommon.py -O /content/faceBlendCommon.py \n",
        "!wget https://raw.githubusercontent.com/opencv/opencv/master/data/haarcascades/haarcascade_frontalface_default.xml haarcascade_frontalface_default.xml -O /content/haarcascade_frontalface_default.xml\n",
        "!wget https://cdn.cnn.com/cnnnext/dam/assets/170209140940-selena-gomez-full-169.jpg -O /content/test.jpg\n",
        "#!wget https://image.shutterstock.com/image-photo/beauty-fashion-women-concept-gorgeous-260nw-1666349602.jpg -O /content/test.jpg\n",
        "!wget https://github.com/italojs/facial-landmarks-recognition/raw/master/shape_predictor_68_face_landmarks.dat\n",
        "!wget https://github.com/rcmalli/keras-vggface/releases/download/v2.0/rcmalli_vggface_tf_notop_vgg16.h5\n",
        "\n",
        "import numpy as np\n",
        "import pandas as pd\n",
        "import sys\n",
        "import cv2\n",
        "import dlib\n",
        "import numpy as np\n",
        "import numpy as np\n",
        "from PIL import Image\n",
        "import shutil\n",
        "from google.colab.patches import cv2_imshow\n",
        "from google.colab import files\n",
        "!pip install mediapipe\n",
        "!pip3 install eos-py\n",
        "!pip install face_recognition\n",
        "import mediapipe as mp\n",
        "from imutils import face_utils\n",
        "import eos\n",
        "from imageio import imread\n",
        "from io import BytesIO\n",
        "import IPython.display\n",
        "import requests\n",
        "from bs4 import BeautifulSoup\n",
        "import time\n",
        "from PIL import Image, ImageDraw\n",
        "import face_recognition\n",
        "from os.path import basename\n",
        "import math\n",
        "import pathlib\n",
        "from pathlib import Path\n",
        "import os\n",
        "import random\n",
        "import matplotlib.pyplot as plt\n",
        "from skimage.draw import circle\n",
        "import glob\n",
        "import h5py\n",
        "from PIL import ImageFile\n",
        "from keras.models import Sequential, Model\n",
        "from keras.applications.vgg16 import VGG16, preprocess_input\n",
        "from keras.preprocessing.image import ImageDataGenerator,load_img, img_to_array\n",
        "from keras.models import Sequential\n",
        "from keras.layers import Conv2D, MaxPooling2D, Dense, Dropout, Input, Flatten, SeparableConv2D\n",
        "from keras.layers import GlobalMaxPooling2D\n",
        "from tensorflow.keras.layers import BatchNormalization\n",
        "from keras.models import Model\n",
        "from tensorflow.keras.optimizers import Adam, SGD, RMSprop\n",
        "from keras.callbacks import ModelCheckpoint, Callback, EarlyStopping\n",
        "from tensorflow.keras.utils import to_categorical\n",
        "from keras import backend as K\n",
        "import faceBlendCommon as fbc\n",
        "from tensorflow.keras import layers\n",
        "import tensorflow as tf\n"
      ]
    },
    {
      "cell_type": "markdown",
      "metadata": {
        "id": "U_gzbjAwxD6P"
      },
      "source": [
        "### **1. MODNet for Image Segmentation (Image Background Removal)**"
      ]
    },
    {
      "cell_type": "markdown",
      "metadata": {
        "id": "GG5beB0nxLnG"
      },
      "source": [
        "Use the pre-trained MODNet model"
      ]
    },
    {
      "cell_type": "code",
      "execution_count": 12,
      "metadata": {
        "colab": {
          "base_uri": "https://localhost:8080/"
        },
        "id": "RuidAVQ_8rRN",
        "outputId": "21d4fac3-cf3b-4d70-8f8c-271ed47cd345"
      },
      "outputs": [
        {
          "output_type": "stream",
          "name": "stdout",
          "text": [
            "/content\n",
            "/content/MODNet\n"
          ]
        }
      ],
      "source": [
        "# MODNet\n",
        "import os\n",
        "\n",
        "# clone the repository\n",
        "%cd /content\n",
        "if not os.path.exists('MODNet'):\n",
        "  !git clone https://github.com/ZHKKKe/MODNet\n",
        "%cd MODNet/\n",
        "\n",
        "# dowload the pre-trained ckpt for image matting\n",
        "pretrained_ckpt = 'pretrained/modnet_photographic_portrait_matting.ckpt'\n",
        "if not os.path.exists(pretrained_ckpt):\n",
        "  !gdown --id 1mcr7ALciuAsHCpLnrtG_eop5-EYhbCmz \\\n",
        "          -O pretrained/modnet_photographic_portrait_matting.ckpt"
      ]
    },
    {
      "cell_type": "markdown",
      "metadata": {
        "id": "rPW5vIwkxN2z"
      },
      "source": [
        "Create input and output Repositories, and move the test image to the input repository."
      ]
    },
    {
      "cell_type": "code",
      "execution_count": 13,
      "metadata": {
        "id": "Pc5BAiFQ8xI9"
      },
      "outputs": [],
      "source": [
        "input_folder = '/content/input'\n",
        "if os.path.exists(input_folder):\n",
        "  shutil.rmtree(input_folder)\n",
        "os.makedirs(input_folder)\n",
        "\n",
        "output_folder = '/content/output'\n",
        "if os.path.exists(output_folder):\n",
        "  shutil.rmtree(output_folder)\n",
        "os.makedirs(output_folder)"
      ]
    },
    {
      "cell_type": "code",
      "execution_count": 14,
      "metadata": {
        "colab": {
          "base_uri": "https://localhost:8080/",
          "height": 34
        },
        "id": "6Bw3LMF1Bc5o",
        "outputId": "74c00432-175f-4bec-b93c-9f19bd93025d"
      },
      "outputs": [
        {
          "output_type": "execute_result",
          "data": {
            "application/vnd.google.colaboratory.intrinsic+json": {
              "type": "string"
            },
            "text/plain": [
              "'/content/input/test.jpg'"
            ]
          },
          "metadata": {},
          "execution_count": 14
        }
      ],
      "source": [
        "shutil.move('/content/test.jpg', os.path.join(input_folder, 'test.jpg'))"
      ]
    },
    {
      "cell_type": "markdown",
      "metadata": {
        "id": "tk7d2SenxVSN"
      },
      "source": [
        "Run portrait matting command to remove the background, and save image in the output folder"
      ]
    },
    {
      "cell_type": "code",
      "execution_count": 15,
      "metadata": {
        "colab": {
          "base_uri": "https://localhost:8080/"
        },
        "id": "PtKVVlB_Bd9K",
        "outputId": "889a8e4b-f26a-40b2-ea98-b6d9e55d4253"
      },
      "outputs": [
        {
          "output_type": "stream",
          "name": "stdout",
          "text": [
            "Process image: test.jpg\n",
            "/usr/local/lib/python3.7/dist-packages/torch/nn/functional.py:3680: UserWarning: The default behavior for interpolate/upsample with float scale_factor changed in 1.6.0 to align with other frameworks/libraries, and now uses scale_factor directly, instead of relying on the computed output size. If you wish to restore the old behavior, please set recompute_scale_factor=True. See the documentation of nn.Upsample for details. \n",
            "  \"The default behavior for interpolate/upsample with float scale_factor changed \"\n"
          ]
        }
      ],
      "source": [
        "## Remove Background\n",
        "!python -m demo.image_matting.colab.inference \\\n",
        "        --input-path /content/input/ \\\n",
        "        --output-path /content/output/ \\\n",
        "        --ckpt-path ./pretrained/modnet_photographic_portrait_matting.ckpt"
      ]
    },
    {
      "cell_type": "code",
      "execution_count": 16,
      "metadata": {
        "id": "pvQvQC-1-g6J"
      },
      "outputs": [],
      "source": [
        "# https://livecodestream.dev/post/remove-the-background-from-images-using-ai-and-python/\n",
        "image_name = 'test.jpg'\n",
        "matte_name = image_name.split('.')[0] + '.png'\n",
        "image = Image.open(os.path.join(input_folder, image_name))\n",
        "matte = Image.open(os.path.join(output_folder, matte_name))\n",
        "\n",
        "# calculate display resolution\n",
        "w, h = image.width, image.height\n",
        "rw, rh = 800, int(h * 800 / (3 * w))\n",
        "  \n",
        "# obtain predicted foreground\n",
        "image = np.asarray(image)\n",
        "if len(image.shape) == 2:\n",
        "  image = image[:, :, None]\n",
        "if image.shape[2] == 1:\n",
        "  image = np.repeat(image, 3, axis=2)\n",
        "elif image.shape[2] == 4:\n",
        "  image = image[:, :, 0:3]\n",
        "matte = np.repeat(np.asarray(matte)[:, :, None], 3, axis=2) / 255\n",
        "foreground = image * matte + np.full(image.shape, 255) * (1 - matte)\n",
        "  \n",
        "# combine image, foreground, and alpha into one line\n",
        "combined = np.concatenate((image, foreground, matte * 255), axis=1)\n",
        "combined = Image.fromarray(np.uint8(combined)).resize((rw, rh))\n",
        "\n",
        "foreground = Image.fromarray(np.uint8(foreground)).resize((w, h))\n",
        "\n",
        "foreground.save(\"/content/output/testNoBackground.jpg\")\n"
      ]
    },
    {
      "cell_type": "markdown",
      "metadata": {
        "id": "br1IgqVmxzzD"
      },
      "source": [
        "### **2. Crop to Face, Align, Rotate Image and Get Facial Measurements**"
      ]
    },
    {
      "cell_type": "code",
      "execution_count": 17,
      "metadata": {
        "id": "CarajyXl0NHe"
      },
      "outputs": [],
      "source": [
        "def transform(image_select):\n",
        "  image = face_recognition.load_image_file(image_select)\n",
        "  face_landmarks_list = face_recognition.face_landmarks(image)\n",
        "  facial_features = ['chin','left_eyebrow','right_eyebrow','nose_bridge','nose_tip','left_eye','right_eye','top_lip','bottom_lip']\n",
        "  pts = []\n",
        "  for face_landmarks in face_landmarks_list:\n",
        "    for facial_feature in facial_features:\n",
        "        for point in  face_landmarks[facial_feature]:\n",
        "          for pix in point:\n",
        "            pts.append(pix)  \n",
        "    eyes = []\n",
        "    lex = pts[72]\n",
        "    ley = pts[73]\n",
        "    rex = pts[90]\n",
        "    rey = pts[91]\n",
        "    eyes.append(pts[72:74])\n",
        "    eyes.append(pts[90:92])\n",
        "    crop_image = crop_face(image, eye_left=(lex, ley), eye_right=(rex, rey), offset_pct=(0.34,0.34), dest_sz=(300,300))\n",
        "    crop_image.save(str(image_select)+\"_NEW_cropped.jpg\")\n"
      ]
    },
    {
      "cell_type": "markdown",
      "metadata": {
        "id": "RQkd8ADjyP8C"
      },
      "source": [
        "Distance metric"
      ]
    },
    {
      "cell_type": "code",
      "execution_count": 18,
      "metadata": {
        "id": "dpQ9VIOT5cTo"
      },
      "outputs": [],
      "source": [
        "def distance(p1,p2):\n",
        "    dx = p2[0] - p1[0]\n",
        "    dy = p2[1] - p1[1]\n",
        "    return math.sqrt(dx*dx+dy*dy)"
      ]
    },
    {
      "cell_type": "markdown",
      "metadata": {
        "id": "Vo09FdDbA_iC"
      },
      "source": [
        "Scale, rotate and translate"
      ]
    },
    {
      "cell_type": "code",
      "execution_count": 19,
      "metadata": {
        "id": "IlZT5YK25elh"
      },
      "outputs": [],
      "source": [
        "def scale_rotate_translate(image, angle, center = None, new_center = None, scale = None, resample=Image.BICUBIC):\n",
        "    if (scale is None) and (center is None):\n",
        "        return image.rotate(angle=angle, resample=resample)\n",
        "    nx,ny = x,y = center\n",
        "    sx=sy=1.0\n",
        "    if new_center:\n",
        "        (nx,ny) = new_center\n",
        "    if scale:\n",
        "        (sx,sy) = (scale, scale)\n",
        "    cosine = math.cos(angle)\n",
        "    sine = math.sin(angle)\n",
        "    a = cosine/sx\n",
        "    b = sine/sx\n",
        "    c = x-nx*a-ny*b\n",
        "    d = -sine/sy\n",
        "    e = cosine/sy\n",
        "    f = y-nx*d-ny*e\n",
        "    image = Image.fromarray(image, 'RGB')\n",
        "    return image.transform(image.size, Image.AFFINE, (a,b,c,d,e,f), resample=resample)"
      ]
    },
    {
      "cell_type": "markdown",
      "metadata": {
        "id": "5uJ2U3MqBDD8"
      },
      "source": [
        "Crop to face"
      ]
    },
    {
      "cell_type": "code",
      "execution_count": 20,
      "metadata": {
        "id": "W4B3ZYu58CRS"
      },
      "outputs": [],
      "source": [
        "def crop_face(image, eye_left=(0,0), eye_right=(0,0), offset_pct=(0.3,0.3), dest_sz = (600,600)):\n",
        "    # calculate offsets in original image\n",
        "    offset_h = math.floor(float(offset_pct[0])*dest_sz[0])\n",
        "    offset_v = math.floor(float(offset_pct[1])*dest_sz[1])\n",
        "    # get the direction\n",
        "    eye_direction = (eye_right[0] - eye_left[0], eye_right[1] - eye_left[1])\n",
        "    # calc rotation angle in radians\n",
        "    rotation = -math.atan2(float(eye_direction[1]),float(eye_direction[0]))\n",
        "    #print(rotation)\n",
        "    # distance between them\n",
        "    dist = distance(eye_left, eye_right)\n",
        "    # calculate the reference eye-width\n",
        "    reference = dest_sz[0] - 2.0*offset_h\n",
        "    # scale factor\n",
        "    scale = float(dist)/float(reference)\n",
        "    # rotate original around the left eye\n",
        "    image = scale_rotate_translate(image, center=eye_left, angle=rotation)\n",
        "    # crop the rotated image\n",
        "    crop_xy = (eye_left[0] - scale*offset_h, eye_left[1] - scale*offset_v)\n",
        "    crop_size = (dest_sz[0]*scale, dest_sz[1]*scale)\n",
        "    image = image.crop((int(crop_xy[0]), int(crop_xy[1]), int(crop_xy[0]+crop_size[0]), int(crop_xy[1]+crop_size[1])))\n",
        "    # resize it\n",
        "    image = image.resize(dest_sz, Image.ANTIALIAS)\n",
        "    return image"
      ]
    },
    {
      "cell_type": "markdown",
      "metadata": {
        "id": "RfhrOBMKBJrV"
      },
      "source": [
        "Identify landmark features"
      ]
    },
    {
      "cell_type": "code",
      "execution_count": 21,
      "metadata": {
        "colab": {
          "base_uri": "https://localhost:8080/",
          "height": 241
        },
        "id": "GR4zJVTv6Y6D",
        "outputId": "61fb0b1b-cd68-40a6-d6fb-5d3d3975149e"
      },
      "outputs": [
        {
          "output_type": "execute_result",
          "data": {
            "image/png": "[encoded data removed]",
            "text/plain": [
              "<PIL.Image.Image image mode=RGB size=224x224 at 0x7FE5DAC8C5D0>"
            ]
          },
          "metadata": {},
          "execution_count": 21
        }
      ],
      "source": [
        "image_select = '/content/output/testNoBackground.jpg'\n",
        "image = face_recognition.load_image_file(image_select)\n",
        "face_landmarks_list = face_recognition.face_landmarks(image)\n",
        "facial_features = ['chin','left_eyebrow','right_eyebrow','nose_bridge','nose_tip','left_eye','right_eye','top_lip','bottom_lip']\n",
        "pts = []\n",
        "for face_landmarks in face_landmarks_list:\n",
        "  for facial_feature in facial_features:\n",
        "      for point in  face_landmarks[facial_feature]:\n",
        "        for pix in point:\n",
        "          pts.append(pix)  \n",
        "  eyes = []\n",
        "  lex = pts[72]\n",
        "  ley = pts[73]\n",
        "  rex = pts[90]\n",
        "  rey = pts[91]\n",
        "  eyes.append(pts[72:74])\n",
        "  eyes.append(pts[90:92])\n",
        "  crop_image = crop_face(image, eye_left=(lex, ley), eye_right=(rex, rey), offset_pct=(0.34,0.34), dest_sz=(224,224))\n",
        "\n",
        "crop_image"
      ]
    },
    {
      "cell_type": "markdown",
      "metadata": {
        "id": "tNezN0OABKmR"
      },
      "source": [
        "Identify new landmark features"
      ]
    },
    {
      "cell_type": "code",
      "execution_count": 22,
      "metadata": {
        "colab": {
          "base_uri": "https://localhost:8080/",
          "height": 241
        },
        "id": "_skjmRpNA8OK",
        "outputId": "1d05b300-d66f-4d6d-ab55-92b787f26f82"
      },
      "outputs": [
        {
          "output_type": "execute_result",
          "data": {
            "image/png": "[encoded data removed]",
            "text/plain": [
              "<PIL.Image.Image image mode=RGB size=224x224 at 0x7FE5DABDC8D0>"
            ]
          },
          "metadata": {},
          "execution_count": 22
        }
      ],
      "source": [
        "crop_image.save(str(image_select)+\"_NEW_cropped.jpg\")\n",
        "nn = str(image_select)+\"_NEW_cropped.jpg\"\n",
        "pts = []\n",
        "face = 0\n",
        "image = face_recognition.load_image_file(nn)\n",
        "face_landmarks_list = face_recognition.face_landmarks(image)\n",
        "facial_features = ['chin','left_eyebrow','right_eyebrow','nose_bridge','nose_tip','left_eye','right_eye','top_lip','bottom_lip']\n",
        "\n",
        "pil_image = Image.fromarray(image)\n",
        "d = ImageDraw.Draw(pil_image)\n",
        "\n",
        "for face_landmarks in face_landmarks_list:\n",
        "    # trace out each facial feature in the image with points\n",
        "    for facial_feature in face_landmarks.keys():\n",
        "      d.line(face_landmarks[facial_feature], width=5)\n",
        "      d.point(face_landmarks[facial_feature], fill = (255,255,255))\n",
        "    for facial_feature in facial_features:\n",
        "      for  point in  face_landmarks[facial_feature]:\n",
        "        for pix in point:\n",
        "          pts.append(pix)\n",
        "\n",
        "pil_image"
      ]
    },
    {
      "cell_type": "code",
      "execution_count": 23,
      "metadata": {
        "colab": {
          "base_uri": "https://localhost:8080/"
        },
        "id": "IjcYdiSEO6Nx",
        "outputId": "1af1cf62-d20e-4e1c-98d9-202d2a62f885"
      },
      "outputs": [
        {
          "output_type": "execute_result",
          "data": {
            "text/plain": [
              "(224, 224, 3)"
            ]
          },
          "metadata": {},
          "execution_count": 23
        }
      ],
      "source": [
        "from numpy import asarray\n",
        "np.asarray(crop_image).shape"
      ]
    },
    {
      "cell_type": "markdown",
      "metadata": {
        "id": "o8PoZB3QLQtg"
      },
      "source": [
        "Plot all landmarks"
      ]
    },
    {
      "cell_type": "code",
      "execution_count": 24,
      "metadata": {
        "colab": {
          "base_uri": "https://localhost:8080/",
          "height": 265
        },
        "id": "ToF9_kUOQpWy",
        "outputId": "1ddbc387-caa1-4233-f4ce-121e30443cb5"
      },
      "outputs": [
        {
          "output_type": "display_data",
          "data": {
            "image/png": "[encoded data removed]",
            "text/plain": [
              "<Figure size 432x288 with 1 Axes>"
            ]
          },
          "metadata": {
            "needs_background": "light"
          }
        }
      ],
      "source": [
        "for i in range(0,34,2):\n",
        "  plt.plot(pts[i], pts[i+1], 'bo', color='blue')\n",
        "  plt.text(pts[i], pts[i+1], s=i)\n",
        "for i in range(34,44,2):\n",
        "  plt.plot(pts[i], pts[i+1], 'bo', color='red')\n",
        "  plt.text(pts[i], pts[i+1], s=i)\n",
        "for i in range(44,56,2):\n",
        "  plt.plot(pts[i], pts[i+1], 'bo', color='green')\n",
        "  plt.text(pts[i], pts[i+1], s=i)\n",
        "for i in range(56,len(pts),2):\n",
        "  plt.plot(pts[i], pts[i+1], 'bo', color='black')\n",
        "  plt.text(pts[i], pts[i+1], s=i)"
      ]
    },
    {
      "cell_type": "markdown",
      "metadata": {
        "id": "EfJdIq_HRyM0"
      },
      "source": [
        "Manually identify points that correspond to major facial landmarks \n",
        "\n",
        "Measurements - facial width, facial height, facial width:facial height, jaw width, jaw width:face width"
      ]
    },
    {
      "cell_type": "code",
      "execution_count": 49,
      "metadata": {
        "id": "e6LY2IsSMVb-",
        "colab": {
          "base_uri": "https://localhost:8080/"
        },
        "outputId": "6604ee90-2944-4cac-ceaa-dcc50b738fb9"
      },
      "outputs": [
        {
          "output_type": "stream",
          "name": "stdout",
          "text": [
            "face_width: 120.00416659433121\n",
            "face_height: 160.11246047700348\n",
            "height_to_width: 1.334224177550906\n",
            "jaw_width: 57.0\n",
            "jaw_width_to_face_width: 0.4749835078034081\n",
            "eye_brow_arch: 7.5\n",
            "lip_width: 9\n",
            "eye_height: 8.0\n",
            "eye_width: 21.0\n",
            "eye_height_to_eye_width: 0.38095238095238093\n",
            "nose_length: 28\n",
            "nose_width: 19\n",
            "Prediction: Straight\n"
          ]
        }
      ],
      "source": [
        "face_width = np.sqrt(np.square(pts[0] - pts[32]) + np.square( pts[1]  -  pts[33]))\n",
        "face_height = np.sqrt(np.square(pts[16] - pts[56]) + np.square(pts[17] -  pts[57] )) * 2\n",
        "height_to_width = face_height/face_width\n",
        "jaw_width = np.sqrt(np.square(pts[12]-pts[20]) + np.square(pts[13]-pts[21]))\n",
        "jaw_width_to_face_width = jaw_width/face_width\n",
        "eye_brow_arch = (abs(pts[43]-pts[39])+abs(pts[53]-pts[49]))/2\n",
        "lip_width = abs(pts[139]-pts[127])\n",
        "eye_height = (abs(pts[75]-pts[81])+abs(pts[87]-pts[95]))/2\n",
        "eye_width = (abs(pts[72]-pts[78])+abs(pts[84]-pts[90]))/2\n",
        "eye_height_to_eye_width = eye_height/eye_width\n",
        "nose_length = abs(pts[57]-pts[67])\n",
        "nose_width = abs(pts[70]-pts[62])\n"
      ]
    },
    {
      "cell_type": "markdown",
      "metadata": {
        "id": "n2fMCjBwSEt1"
      },
      "source": [
        "### **3. Set up the Celebrity Database to Classify Face Shape**"
      ]
    },
    {
      "cell_type": "markdown",
      "metadata": {
        "id": "QtZXAzPXurjc"
      },
      "source": [
        "Image dataset"
      ]
    },
    {
      "cell_type": "code",
      "execution_count": 35,
      "metadata": {
        "id": "qqqpOysVwkkK"
      },
      "outputs": [],
      "source": [
        "# Face shape: https://www.kaggle.com/niten19/face-shape-dataset/code\n",
        "batch_size = 50\n",
        "train_images = '/content/drive/MyDrive/Masters Notes/Winter2022/HairStyleTransfer/data/training_set'\n",
        "test_images = '/content/drive/MyDrive/Masters Notes/Winter2022/HairStyleTransfer/data/testing_set'"
      ]
    },
    {
      "cell_type": "code",
      "source": [
        "vgg16 = '/content/rcmalli_vggface_tf_notop_vgg16.h5'"
      ],
      "metadata": {
        "id": "-SUdjAjtGA2F"
      },
      "execution_count": 51,
      "outputs": []
    },
    {
      "cell_type": "markdown",
      "metadata": {
        "id": "xFx6W73jwhV1"
      },
      "source": [
        "Run preprocessing on all images"
      ]
    },
    {
      "cell_type": "code",
      "execution_count": null,
      "metadata": {
        "id": "fjxF0ylPwizq"
      },
      "outputs": [],
      "source": [
        "data_training = []\n",
        "\n",
        "for r, d, f in os.walk(train_images):\n",
        "    for file in f:\n",
        "        if \".jpg\" in file:\n",
        "            data_training.append((os.path.join(r, file).split(\"/\")[-2], os.path.join(r, file)))\n",
        "\n",
        "df_training = pd.DataFrame(data_training, columns=['class','file_path'])\n",
        "\n",
        "\n",
        "data_testing = []\n",
        "\n",
        "for r, d, f in os.walk(test_images):\n",
        "    for file in f:\n",
        "        if \".jpg\" in file:\n",
        "            data_testing.append((os.path.join(r, file).split(\"/\")[-2], os.path.join(r, file)))\n",
        "\n",
        "df_testing = pd.DataFrame(data_testing, columns=['class','file_path'])"
      ]
    },
    {
      "cell_type": "code",
      "execution_count": null,
      "metadata": {
        "id": "udXV4FxL3llr"
      },
      "outputs": [],
      "source": [
        "for i in range(len(df_training)):\n",
        "    transform(df_training['file_path'][i])\n",
        "\n",
        "for i in range(len(df_testing)):\n",
        "    transform(df_testing['file_path'][i])"
      ]
    },
    {
      "cell_type": "code",
      "execution_count": 36,
      "metadata": {
        "id": "eJt4QpjC-IYU"
      },
      "outputs": [],
      "source": [
        "data_training = []\n",
        "\n",
        "for r, d, f in os.walk(train_images):\n",
        "    for file in f:\n",
        "        if \"_NEW_cropped.jpg\" in file:\n",
        "            data_training.append((os.path.join(r, file).split(\"/\")[-2], os.path.join(r, file)))\n",
        "\n",
        "df_training = pd.DataFrame(data_training, columns=['class','file_path'])\n",
        "\n",
        "\n",
        "data_testing = []\n",
        "\n",
        "for r, d, f in os.walk(test_images):\n",
        "    for file in f:\n",
        "        if \"_NEW_cropped.jpg\" in file:\n",
        "            data_testing.append((os.path.join(r, file).split(\"/\")[-2], os.path.join(r, file)))\n",
        "\n",
        "df_testing = pd.DataFrame(data_testing, columns=['class','file_path'])"
      ]
    },
    {
      "cell_type": "code",
      "source": [
        "df_training.head()"
      ],
      "metadata": {
        "colab": {
          "base_uri": "https://localhost:8080/",
          "height": 206
        },
        "id": "fYf66nGe5v1a",
        "outputId": "2c77a6bd-c5e5-4a8b-d2f8-93a9c49cb09c"
      },
      "execution_count": 38,
      "outputs": [
        {
          "output_type": "execute_result",
          "data": {
            "text/html": [
              "\n",
              "  <div id=\"df-2e156fcc-20e5-4e98-83ff-c80e69dce4cb\">\n",
              "    <div class=\"colab-df-container\">\n",
              "      <div>\n",
              "<style scoped>\n",
              "    .dataframe tbody tr th:only-of-type {\n",
              "        vertical-align: middle;\n",
              "    }\n",
              "\n",
              "    .dataframe tbody tr th {\n",
              "        vertical-align: top;\n",
              "    }\n",
              "\n",
              "    .dataframe thead th {\n",
              "        text-align: right;\n",
              "    }\n",
              "</style>\n",
              "<table border=\"1\" class=\"dataframe\">\n",
              "  <thead>\n",
              "    <tr style=\"text-align: right;\">\n",
              "      <th></th>\n",
              "      <th>class</th>\n",
              "      <th>file_path</th>\n",
              "    </tr>\n",
              "  </thead>\n",
              "  <tbody>\n",
              "    <tr>\n",
              "      <th>0</th>\n",
              "      <td>Round</td>\n",
              "      <td>/content/drive/MyDrive/Masters Notes/Winter202...</td>\n",
              "    </tr>\n",
              "    <tr>\n",
              "      <th>1</th>\n",
              "      <td>Round</td>\n",
              "      <td>/content/drive/MyDrive/Masters Notes/Winter202...</td>\n",
              "    </tr>\n",
              "    <tr>\n",
              "      <th>2</th>\n",
              "      <td>Round</td>\n",
              "      <td>/content/drive/MyDrive/Masters Notes/Winter202...</td>\n",
              "    </tr>\n",
              "    <tr>\n",
              "      <th>3</th>\n",
              "      <td>Round</td>\n",
              "      <td>/content/drive/MyDrive/Masters Notes/Winter202...</td>\n",
              "    </tr>\n",
              "    <tr>\n",
              "      <th>4</th>\n",
              "      <td>Round</td>\n",
              "      <td>/content/drive/MyDrive/Masters Notes/Winter202...</td>\n",
              "    </tr>\n",
              "  </tbody>\n",
              "</table>\n",
              "</div>\n",
              "      <button class=\"colab-df-convert\" onclick=\"convertToInteractive('df-2e156fcc-20e5-4e98-83ff-c80e69dce4cb')\"\n",
              "              title=\"Convert this dataframe to an interactive table.\"\n",
              "              style=\"display:none;\">\n",
              "        \n",
              "  <svg xmlns=\"http://www.w3.org/2000/svg\" height=\"24px\"viewBox=\"0 0 24 24\"\n",
              "       width=\"24px\">\n",
              "    <path d=\"M0 0h24v24H0V0z\" fill=\"none\"/>\n",
              "    <path d=\"M18.56 5.44l.94 2.06.94-2.06 2.06-.94-2.06-.94-.94-2.06-.94 2.06-2.06.94zm-11 1L8.5 8.5l.94-2.06 2.06-.94-2.06-.94L8.5 2.5l-.94 2.06-2.06.94zm10 10l.94 2.06.94-2.06 2.06-.94-2.06-.94-.94-2.06-.94 2.06-2.06.94z\"/><path d=\"M17.41 7.96l-1.37-1.37c-.4-.4-.92-.59-1.43-.59-.52 0-1.04.2-1.43.59L10.3 9.45l-7.72 7.72c-.78.78-.78 2.05 0 2.83L4 21.41c.39.39.9.59 1.41.59.51 0 1.02-.2 1.41-.59l7.78-7.78 2.81-2.81c.8-.78.8-2.07 0-2.86zM5.41 20L4 18.59l7.72-7.72 1.47 1.35L5.41 20z\"/>\n",
              "  </svg>\n",
              "      </button>\n",
              "      \n",
              "  <style>\n",
              "    .colab-df-container {\n",
              "      display:flex;\n",
              "      flex-wrap:wrap;\n",
              "      gap: 12px;\n",
              "    }\n",
              "\n",
              "    .colab-df-convert {\n",
              "      background-color: #E8F0FE;\n",
              "      border: none;\n",
              "      border-radius: 50%;\n",
              "      cursor: pointer;\n",
              "      display: none;\n",
              "      fill: #1967D2;\n",
              "      height: 32px;\n",
              "      padding: 0 0 0 0;\n",
              "      width: 32px;\n",
              "    }\n",
              "\n",
              "    .colab-df-convert:hover {\n",
              "      background-color: #E2EBFA;\n",
              "      box-shadow: 0px 1px 2px rgba(60, 64, 67, 0.3), 0px 1px 3px 1px rgba(60, 64, 67, 0.15);\n",
              "      fill: #174EA6;\n",
              "    }\n",
              "\n",
              "    [theme=dark] .colab-df-convert {\n",
              "      background-color: #3B4455;\n",
              "      fill: #D2E3FC;\n",
              "    }\n",
              "\n",
              "    [theme=dark] .colab-df-convert:hover {\n",
              "      background-color: #434B5C;\n",
              "      box-shadow: 0px 1px 3px 1px rgba(0, 0, 0, 0.15);\n",
              "      filter: drop-shadow(0px 1px 2px rgba(0, 0, 0, 0.3));\n",
              "      fill: #FFFFFF;\n",
              "    }\n",
              "  </style>\n",
              "\n",
              "      <script>\n",
              "        const buttonEl =\n",
              "          document.querySelector('#df-2e156fcc-20e5-4e98-83ff-c80e69dce4cb button.colab-df-convert');\n",
              "        buttonEl.style.display =\n",
              "          google.colab.kernel.accessAllowed ? 'block' : 'none';\n",
              "\n",
              "        async function convertToInteractive(key) {\n",
              "          const element = document.querySelector('#df-2e156fcc-20e5-4e98-83ff-c80e69dce4cb');\n",
              "          const dataTable =\n",
              "            await google.colab.kernel.invokeFunction('convertToInteractive',\n",
              "                                                     [key], {});\n",
              "          if (!dataTable) return;\n",
              "\n",
              "          const docLinkHtml = 'Like what you see? Visit the ' +\n",
              "            '<a target=\"_blank\" href=https://colab.research.google.com/notebooks/data_table.ipynb>data table notebook</a>'\n",
              "            + ' to learn more about interactive tables.';\n",
              "          element.innerHTML = '';\n",
              "          dataTable['output_type'] = 'display_data';\n",
              "          await google.colab.output.renderOutput(dataTable, element);\n",
              "          const docLink = document.createElement('div');\n",
              "          docLink.innerHTML = docLinkHtml;\n",
              "          element.appendChild(docLink);\n",
              "        }\n",
              "      </script>\n",
              "    </div>\n",
              "  </div>\n",
              "  "
            ],
            "text/plain": [
              "   class                                          file_path\n",
              "0  Round  /content/drive/MyDrive/Masters Notes/Winter202...\n",
              "1  Round  /content/drive/MyDrive/Masters Notes/Winter202...\n",
              "2  Round  /content/drive/MyDrive/Masters Notes/Winter202...\n",
              "3  Round  /content/drive/MyDrive/Masters Notes/Winter202...\n",
              "4  Round  /content/drive/MyDrive/Masters Notes/Winter202..."
            ]
          },
          "metadata": {},
          "execution_count": 38
        }
      ]
    },
    {
      "cell_type": "code",
      "execution_count": 39,
      "metadata": {
        "colab": {
          "base_uri": "https://localhost:8080/"
        },
        "id": "8NCwHmHoufsY",
        "outputId": "bf0416c1-28a5-4b2d-86ec-2fa872659918"
      },
      "outputs": [
        {
          "output_type": "stream",
          "name": "stdout",
          "text": [
            "Found 3989 validated image filenames belonging to 5 classes.\n",
            "Found 1009 validated image filenames belonging to 5 classes.\n"
          ]
        }
      ],
      "source": [
        "TrainDatagen = ImageDataGenerator(\n",
        "        preprocessing_function= preprocess_input,\n",
        "        horizontal_flip = True)\n",
        "\n",
        "TestDatagen = ImageDataGenerator(\n",
        "    preprocessing_function= preprocess_input)\n",
        "\n",
        "train_data = TrainDatagen.flow_from_dataframe(\n",
        "    df_training, x_col='file_path',\n",
        "    target_size = (224,224),\n",
        "    batch_size =batch_size,\n",
        "    class_mode = 'categorical')\n",
        "\n",
        "test_data = TestDatagen.flow_from_dataframe(\n",
        "    df_testing, x_col='file_path',\n",
        "    target_size = (224,224),\n",
        "    batch_size = batch_size,\n",
        "    class_mode = 'categorical'\n",
        ")"
      ]
    },
    {
      "cell_type": "markdown",
      "metadata": {
        "id": "ti-_Zgx1uwL_"
      },
      "source": [
        "Define model architecture"
      ]
    },
    {
      "cell_type": "code",
      "execution_count": 54,
      "metadata": {
        "id": "IDjSfd9auj-R"
      },
      "outputs": [],
      "source": [
        "# Loading VGG16 as base model\n",
        "base_model = VGG16(input_shape=(224, 224, 3),  # same as our input\n",
        "                   include_top=False,  # exclude the last layer\n",
        "                   weights=vgg16)  # use VGGFace Weights\n",
        "for layer in base_model.layers:\n",
        "  layer.trainable = False\n",
        "\n",
        "model_t1 = Sequential()"
      ]
    },
    {
      "cell_type": "markdown",
      "metadata": {
        "id": "opxV1YpTuy7W"
      },
      "source": [
        "Build and compile the model"
      ]
    },
    {
      "cell_type": "code",
      "execution_count": 57,
      "metadata": {
        "id": "Hc-Pv_qDumYB",
        "colab": {
          "base_uri": "https://localhost:8080/"
        },
        "outputId": "5a98ac6c-6a41-40de-86ac-372916dc0d18"
      },
      "outputs": [
        {
          "output_type": "stream",
          "name": "stdout",
          "text": [
            "Model: \"model_1\"\n",
            "_________________________________________________________________\n",
            " Layer (type)                Output Shape              Param #   \n",
            "=================================================================\n",
            " input_2 (InputLayer)        [(None, 224, 224, 3)]     0         \n",
            "                                                                 \n",
            " block1_conv1 (Conv2D)       (None, 224, 224, 64)      1792      \n",
            "                                                                 \n",
            " block1_conv2 (Conv2D)       (None, 224, 224, 64)      36928     \n",
            "                                                                 \n",
            " block1_pool (MaxPooling2D)  (None, 112, 112, 64)      0         \n",
            "                                                                 \n",
            " block2_conv1 (Conv2D)       (None, 112, 112, 128)     73856     \n",
            "                                                                 \n",
            " block2_conv2 (Conv2D)       (None, 112, 112, 128)     147584    \n",
            "                                                                 \n",
            " block2_pool (MaxPooling2D)  (None, 56, 56, 128)       0         \n",
            "                                                                 \n",
            " block3_conv1 (Conv2D)       (None, 56, 56, 256)       295168    \n",
            "                                                                 \n",
            " block3_conv2 (Conv2D)       (None, 56, 56, 256)       590080    \n",
            "                                                                 \n",
            " block3_conv3 (Conv2D)       (None, 56, 56, 256)       590080    \n",
            "                                                                 \n",
            " block3_pool (MaxPooling2D)  (None, 28, 28, 256)       0         \n",
            "                                                                 \n",
            " block4_conv1 (Conv2D)       (None, 28, 28, 512)       1180160   \n",
            "                                                                 \n",
            " block4_conv2 (Conv2D)       (None, 28, 28, 512)       2359808   \n",
            "                                                                 \n",
            " block4_conv3 (Conv2D)       (None, 28, 28, 512)       2359808   \n",
            "                                                                 \n",
            " block4_pool (MaxPooling2D)  (None, 14, 14, 512)       0         \n",
            "                                                                 \n",
            " block5_conv1 (Conv2D)       (None, 14, 14, 512)       2359808   \n",
            "                                                                 \n",
            " block5_conv2 (Conv2D)       (None, 14, 14, 512)       2359808   \n",
            "                                                                 \n",
            " block5_conv3 (Conv2D)       (None, 14, 14, 512)       2359808   \n",
            "                                                                 \n",
            " block5_pool (MaxPooling2D)  (None, 7, 7, 512)         0         \n",
            "                                                                 \n",
            " flatten_1 (Flatten)         (None, 25088)             0         \n",
            "                                                                 \n",
            " dense_2 (Dense)             (None, 64)                1605696   \n",
            "                                                                 \n",
            " dropout_1 (Dropout)         (None, 64)                0         \n",
            "                                                                 \n",
            " dense_3 (Dense)             (None, 5)                 325       \n",
            "                                                                 \n",
            "=================================================================\n",
            "Total params: 16,320,709\n",
            "Trainable params: 1,606,021\n",
            "Non-trainable params: 14,714,688\n",
            "_________________________________________________________________\n"
          ]
        }
      ],
      "source": [
        "x = layers.Flatten()(base_model.output)\n",
        "\n",
        "x = layers.Dense(64, activation='relu')(x)  # add 1 fully connected layer, try with 512 first \n",
        "x = layers.Dropout(0.5)(x)\n",
        "x = layers.Dense(5, activation='softmax')(x)  # add final layer\n",
        "\n",
        "model_t1 = tf.keras.models.Model(base_model.input, x)\n",
        "\n",
        "model_t1.compile(loss='categorical_crossentropy',\n",
        "                 optimizer='adam',\n",
        "                 metrics=['accuracy'])\n",
        "\n",
        "model_t1.summary()"
      ]
    },
    {
      "cell_type": "markdown",
      "metadata": {
        "id": "K7tUCVdVu0R9"
      },
      "source": [
        "Fit the model"
      ]
    },
    {
      "cell_type": "code",
      "execution_count": null,
      "metadata": {
        "id": "r0vnOkBAUgIu"
      },
      "outputs": [],
      "source": [
        "ImageFile.LOAD_TRUNCATED_IMAGES = True\n",
        "history = model_t1.fit(\n",
        "    train_data,              \n",
        "    steps_per_epoch = train_data.samples//batch_size,\n",
        "    validation_data = test_data,\n",
        "    validation_steps = test_data.samples//batch_size,\n",
        "    epochs = 50,\n",
        "    callbacks=[es,chkpt])"
      ]
    },
    {
      "cell_type": "markdown",
      "metadata": {
        "id": "QhWbkmzAvBS_"
      },
      "source": [
        "Save model and weights"
      ]
    },
    {
      "cell_type": "code",
      "execution_count": null,
      "metadata": {
        "id": "E8FFyuuYu4M1"
      },
      "outputs": [],
      "source": [
        "model_t1.save('face_shape_classifier.h5')\n",
        "model_t1.save_weights('face_shape_classifier_weights.h5')"
      ]
    },
    {
      "cell_type": "markdown",
      "metadata": {
        "id": "M94C_rxEvHSN"
      },
      "source": [
        "Predict shape of test image"
      ]
    },
    {
      "cell_type": "code",
      "execution_count": null,
      "metadata": {
        "colab": {
          "base_uri": "https://localhost:8080/"
        },
        "id": "vdAm3H-LvJGQ",
        "outputId": "ed2ea5f4-7864-4690-e406-ec29944eb515"
      },
      "outputs": [
        {
          "data": {
            "text/plain": [
              "array([[0.19905712, 0.19444633, 0.20406768, 0.2046366 , 0.19779228]],\n",
              "      dtype=float32)"
            ]
          },
          "execution_count": 218,
          "metadata": {},
          "output_type": "execute_result"
        }
      ],
      "source": [
        "model_t1.predict(np.asarray(crop_image).reshape(-1, np.asarray(crop_image).shape[0], np.asarray(crop_image).shape[1], np.asarray(crop_image).shape[2]))"
      ]
    },
    {
      "cell_type": "markdown",
      "metadata": {
        "id": "iCJqyIRcQUYE"
      },
      "source": [
        "Arg max"
      ]
    },
    {
      "cell_type": "markdown",
      "metadata": {
        "id": "HqATMQoRUGTh"
      },
      "source": [
        "### **5. Hair Segmentation**"
      ]
    },
    {
      "cell_type": "code",
      "execution_count": null,
      "metadata": {
        "id": "IsVUcSeRUgwd"
      },
      "outputs": [],
      "source": [
        "# TODO\n",
        "# https://github.com/gaelkt/HairNets/tree/5a4c7644ead58225d9d8d16bc83f1d6b9059f9b6\n"
      ]
    },
    {
      "cell_type": "markdown",
      "metadata": {
        "id": "KkKdAYEeUKAw"
      },
      "source": [
        "### **6. Get Hair Characteristics (Color, Length)**"
      ]
    },
    {
      "cell_type": "code",
      "execution_count": null,
      "metadata": {
        "id": "lz1YVvd4UhKl"
      },
      "outputs": [],
      "source": [
        "# TODO\n",
        "\n",
        "# Hair type: https://www.kaggle.com/vyombhatia/the-three-hair-types\n",
        "\n",
        "# Hair texture classification"
      ]
    },
    {
      "cell_type": "markdown",
      "metadata": {
        "id": "uNLNMc_-T-2m"
      },
      "source": [
        "### **7. Celebrity Database**"
      ]
    },
    {
      "cell_type": "code",
      "execution_count": null,
      "metadata": {
        "id": "IPPmel8CUhku"
      },
      "outputs": [],
      "source": [
        "# TODO"
      ]
    }
  ],
  "metadata": {
    "accelerator": "GPU",
    "colab": {
      "collapsed_sections": [],
      "name": "HairStyleEDA.ipynb",
      "provenance": []
    },
    "kernelspec": {
      "display_name": "Python 3",
      "name": "python3"
    },
    "language_info": {
      "name": "python"
    }
  },
  "nbformat": 4,
  "nbformat_minor": 0
}